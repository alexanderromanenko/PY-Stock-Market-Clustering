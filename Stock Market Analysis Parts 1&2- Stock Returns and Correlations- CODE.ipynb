{
 "cells": [
  {
   "cell_type": "markdown",
   "metadata": {},
   "source": [
    "## Introduction \n",
    "This analysis focuses on stock performance data from S&P 500 companies for 2015. There were 252 business days in 2015 so the calculation would define a full year performance based on these days only. The analysis would comprise of 3 main parts as follows: \n",
    "Calculate daily return \n",
    "Perform correlation test for each company's stock \n",
    "Implement clustering algorithm\n",
    "## Analysis\n",
    "## Part 1. Stock Returns\n",
    "### Calculate daily return\n",
    "In this part, the report produces daily return number in percentage for each company. This analysis then answers the following questions:\n",
    "Which companies experienced the maximum and minimum daily returns?\n",
    "What were the reasons event in point 1 occurred?\n",
    "Which companies performed overall best and worst over the year?\n",
    "Which companies exhibited most and least volatility based on the standard deviation of their returns over the year \n",
    "In order to calculate each company's stock daily return, the calculation would start at day 2 or 5 January 2015 because in that way there would be baseline price to compare with (day 1 or 2 January 2015). From day 2 onwards, the percentage change could be calculated as follows:\n",
    "\n",
    "  $${x} = \\frac{p_t - p_{t-1}}{p_{t-1}}$$\n",
    "\n",
    "There is a function inside pandas module named pct _ change to calculate percentage difference from the series data type. The code were as follows:"
   ]
  },
  {
   "cell_type": "markdown",
   "metadata": {},
   "source": [
    "#### Calculate day-to-day return for all companies "
   ]
  },
  {
   "cell_type": "code",
   "execution_count": 17,
   "metadata": {
    "collapsed": true
   },
   "outputs": [],
   "source": [
    "#importing required packages\n",
    "import pandas as pd\n",
    "import numpy as np\n",
    "import matplotlib.pyplot as plt\n",
    "import csv\n",
    "\n",
    "filename = 'SP_500_close_2015.csv'\n",
    "priceData = pd.read_csv(filename,index_col = 0)\n",
    "\n",
    "#Read company names into a dictionary\n",
    "def readNamesIntoDict():\n",
    "    d = dict()\n",
    "    input_file = csv.DictReader(open(\"SP_500_firms.csv\"))\n",
    "    for row in input_file:\n",
    "        #print(row)\n",
    "        d[row['Symbol']] = [row['Name'],row['Sector']]\n",
    "    return d\n",
    "\n",
    "companyNames = readNamesIntoDict()\n",
    "\n",
    "#creating new dataframe for Daily Returns (dailyret)\n",
    "dailyret = priceData.pct_change(1)"
   ]
  },
  {
   "cell_type": "markdown",
   "metadata": {},
   "source": [
    "#### Calculate year-on-year return for all companies\n",
    "The analysis calculates the return during one year for all companies. The calculation uses stock price on the first trading date in 2015 (2 January 2015) and last trading date of the year (31 December 2015)."
   ]
  },
  {
   "cell_type": "code",
   "execution_count": 18,
   "metadata": {
    "collapsed": true
   },
   "outputs": [],
   "source": [
    "#creating dataframe for yearly change in shareprice\n",
    "yearlyret = priceData.pct_change(len(priceData)-1).dropna()"
   ]
  },
  {
   "cell_type": "markdown",
   "metadata": {},
   "source": [
    "#### Top Daily Stock Performance\n",
    "Top stock performance in a day over the year:"
   ]
  },
  {
   "cell_type": "code",
   "execution_count": 19,
   "metadata": {
    "collapsed": false
   },
   "outputs": [
    {
     "data": {
      "text/html": [
       "<div>\n",
       "<table border=\"1\" class=\"dataframe\">\n",
       "  <thead>\n",
       "    <tr style=\"text-align: right;\">\n",
       "      <th></th>\n",
       "      <th>Date</th>\n",
       "      <th>Equity</th>\n",
       "      <th>Firm Name</th>\n",
       "      <th>Percentage (%)</th>\n",
       "    </tr>\n",
       "  </thead>\n",
       "  <tbody>\n",
       "    <tr>\n",
       "      <th>0</th>\n",
       "      <td>2015-08-27</td>\n",
       "      <td>FCX</td>\n",
       "      <td>Freeport-McMoran Cp &amp; Gld</td>\n",
       "      <td>28.661620</td>\n",
       "    </tr>\n",
       "    <tr>\n",
       "      <th>1</th>\n",
       "      <td>2015-06-22</td>\n",
       "      <td>WMB</td>\n",
       "      <td>Williams Cos.</td>\n",
       "      <td>25.899876</td>\n",
       "    </tr>\n",
       "    <tr>\n",
       "      <th>2</th>\n",
       "      <td>2015-10-14</td>\n",
       "      <td>TRIP</td>\n",
       "      <td>TripAdvisor</td>\n",
       "      <td>25.536060</td>\n",
       "    </tr>\n",
       "  </tbody>\n",
       "</table>\n",
       "</div>"
      ],
      "text/plain": [
       "         Date Equity                  Firm Name  Percentage (%)\n",
       "0  2015-08-27    FCX  Freeport-McMoran Cp & Gld       28.661620\n",
       "1  2015-06-22    WMB              Williams Cos.       25.899876\n",
       "2  2015-10-14   TRIP                TripAdvisor       25.536060"
      ]
     },
     "execution_count": 19,
     "metadata": {},
     "output_type": "execute_result"
    }
   ],
   "source": [
    "#FUNCTIONS\n",
    "#Finding 3 companies with biggest increase in the dataframe.\n",
    "#result produces company name, date of occurence and change in value\n",
    "def maxrise(retdf):\n",
    "    maxname=retdf.max().sort_values()\n",
    "    maxdate=(retdf.max(1).dropna()).sort_values()\n",
    "    result = pd.DataFrame()\n",
    "    if len(retdf)==1:   # this function checks whether the return relates to a year (len =1) or a daily \n",
    "        for i in range(-1, -4, -1):     \n",
    "            detail = pd.DataFrame({'Percentage (%)': [maxname.iloc[i]*100],\n",
    "                                   'Company Name': [companyNames[str(maxname.index[i])][0]],\n",
    "                                   'Code': [maxname.index[i]]})\n",
    "            result = result.append(detail, ignore_index = True)\n",
    "    else:\n",
    "        for i in range(-1, -4, -1):\n",
    "            detail = pd.DataFrame({'Equity': [maxname.index[i]],\n",
    "                                   'Firm Name': [companyNames[str(maxname.index[i])][0]],\n",
    "                                   'Date' : [maxdate.index[i]],\n",
    "                                   'Percentage (%)': [maxname.iloc[i]*100]})\n",
    "            result = result.append(detail, ignore_index = True)\n",
    "    return result\n",
    "\n",
    "#biggest rise in a day\n",
    "maxrise(dailyret)"
   ]
  },
  {
   "cell_type": "markdown",
   "metadata": {},
   "source": [
    "#### Analysis\n",
    "The biggest daily growth of the year occured on 27/08/2015 for a company called Freeport-McMoran Cp & Gld (NYSE: FCX). The share price has increased from 7.8894 (eod 26/08/2015) to 10.1506 (eod 27/08/2015), a total increase of 28.66%. The sharp increase has resulted from announcement by the company to further cut the costs in response to market conditions. The company predicted that the total capital expenditure will decrease by $700 million.(Freeport-McMoRan Inc., 2016) In addition to the cost cutting, it has been announced on 27/08/2015 that influential investor Carl Icahn has bought a large stake in the company, which indicated a belief by the investor that the company's performance will improve. (Miller & Benoit, 2015) Combination of these two factors had a strong impact on market sentiment towards the company and resulted in large shift of the share price on the day."
   ]
  },
  {
   "cell_type": "markdown",
   "metadata": {},
   "source": [
    "#### Worst Daily Stock Performance\n",
    "In order to calculate worst stock performance in a day, the analysis used following functions:"
   ]
  },
  {
   "cell_type": "code",
   "execution_count": 20,
   "metadata": {
    "collapsed": false
   },
   "outputs": [
    {
     "data": {
      "text/html": [
       "<div>\n",
       "<table border=\"1\" class=\"dataframe\">\n",
       "  <thead>\n",
       "    <tr style=\"text-align: right;\">\n",
       "      <th></th>\n",
       "      <th>Date</th>\n",
       "      <th>Equity</th>\n",
       "      <th>Firm Name</th>\n",
       "      <th>Percentage (%)</th>\n",
       "    </tr>\n",
       "  </thead>\n",
       "  <tbody>\n",
       "    <tr>\n",
       "      <th>0</th>\n",
       "      <td>2015-10-16</td>\n",
       "      <td>PWR</td>\n",
       "      <td>[Quanta Services Inc., Industrials]</td>\n",
       "      <td>-28.500570</td>\n",
       "    </tr>\n",
       "    <tr>\n",
       "      <th>1</th>\n",
       "      <td>2015-05-27</td>\n",
       "      <td>KORS</td>\n",
       "      <td>[Michael Kors Holdings, Consumer Discretionary]</td>\n",
       "      <td>-24.195412</td>\n",
       "    </tr>\n",
       "    <tr>\n",
       "      <th>2</th>\n",
       "      <td>2015-07-24</td>\n",
       "      <td>BIIB</td>\n",
       "      <td>[BIOGEN IDEC Inc., Health Care]</td>\n",
       "      <td>-22.080247</td>\n",
       "    </tr>\n",
       "  </tbody>\n",
       "</table>\n",
       "</div>"
      ],
      "text/plain": [
       "         Date Equity                                        Firm Name  \\\n",
       "0  2015-10-16    PWR              [Quanta Services Inc., Industrials]   \n",
       "1  2015-05-27   KORS  [Michael Kors Holdings, Consumer Discretionary]   \n",
       "2  2015-07-24   BIIB                  [BIOGEN IDEC Inc., Health Care]   \n",
       "\n",
       "   Percentage (%)  \n",
       "0      -28.500570  \n",
       "1      -24.195412  \n",
       "2      -22.080247  "
      ]
     },
     "execution_count": 20,
     "metadata": {},
     "output_type": "execute_result"
    }
   ],
   "source": [
    "#Finding 3 companies with biggest fall in the dataframe:\n",
    "#result produces company name, change in value and the date\n",
    "def maxdrop(retdf):\n",
    "    minname=retdf.min().sort_values()\n",
    "    mindate=(retdf.min(1).dropna()).sort_values()\n",
    "    result = pd.DataFrame()\n",
    "    if len(retdf)==1: #this function establishes whether the return is calculated for a year (=1) or a daily one\n",
    "        for i in range(0, 3):\n",
    "            detail = pd.DataFrame({'Code': [minname.index[i]],\n",
    "                                   'Company Name': [companyNames[str(minname.index[i])]],\n",
    "                                   'Percentage (%)': [minname.iloc[i]*100]})\n",
    "            result = result.append(detail, ignore_index = True)\n",
    "    else: \n",
    "        for i in range(0, 3):\n",
    "            detail = pd.DataFrame({'Equity': [minname.index[i]],\n",
    "                                   'Firm Name': [companyNames[str(minname.index[i])]],\n",
    "                                   'Date' : [mindate.index[i]], \n",
    "                                   'Percentage (%)': [minname.iloc[i]*100]})\n",
    "            result = result.append(detail, ignore_index = True)\n",
    "    return result\n",
    "\n",
    "#biggest fall in a day\n",
    "maxdrop(dailyret)"
   ]
  },
  {
   "cell_type": "markdown",
   "metadata": {},
   "source": [
    "#### Analysis\n",
    "\n",
    "The biggest daily fall of the year occurred on 16/10/2015 for a company called Quanta Services Inc. (NYSE: PWR). The share price has plummeted from 26.21 (eod 15/10/2015) to 18.74 (eod 16/10/2015), total decrease of 28.5%. The sharp fall has resulted from the company's announcement of its preliminary third quarter results. In the announcement the company lowered its full year revenue forecast by $200 million. This has been a result of a wider trend of reduction in operating margins for the Oil and Gas Infrastructure Services segment, which in turn impacted by difficult macro-economic environment.(Quanta Services, 2015) It was interesting to note that the company's shares are currently (as of 12/10/2016) trading at 27.65. It shows that the investors' appetite for the shares have gone to above the pre-fall levels."
   ]
  },
  {
   "cell_type": "markdown",
   "metadata": {},
   "source": [
    "#### Stock Price Volatility\n",
    "\n",
    "To evaluate stock's price volatility, the analysis requires the data for average price and standard deviation for every company in 2015. Mean calculation defined as follows:  \n",
    "$$\\bar{x} = \\frac{1}{n} \\sum_{i=1}^{n}x_{i}$$  \n",
    "\n",
    "And standard deviation defined as follows:  \n",
    "$$\\sigma = \\sqrt{\\frac{\\sum\\limits_{i=1}^{n} \\left(x_{i} - \\bar{x}\\right)^{2}} {n-1}}$$  \n",
    "\n",
    "To calculate mean and standard deviation, the analysis used the following code:"
   ]
  },
  {
   "cell_type": "code",
   "execution_count": 21,
   "metadata": {
    "collapsed": true
   },
   "outputs": [],
   "source": [
    "#Calculate the correlations between all stocks in the data using returns. \n",
    "#Create an empty data frame n*n setting as columns and rows the stocks' names\n",
    "col = dailyret.columns\n",
    "col = col.tolist()\n",
    "cor = pd.DataFrame(index=col, columns=col)\n",
    "\n",
    "#Create a data frame 'cor' with the correlations between all stocks (less efficient way)\n",
    "#Calculate correlations in a faster and easier way\n",
    "def calcCorr():\n",
    "    cor1 = np.corrcoef(dailyret[1: ],rowvar=0)\n",
    "    cor = pd.DataFrame(cor1, columns = col, index = col)\n",
    "    return cor\n",
    "\n",
    "#This is how correlation calculation works in general (less efficient way)\n",
    "def calcCorr2():\n",
    "    for i in range(0, dailyret.shape[1]):\n",
    "        for j in range(0, dailyret.shape[1]):\n",
    "            dividend = (dailyret.shape[0]-1) * sum(dailyret.iloc[1:dailyret.shape[0]-1, i] * dailyret.iloc[1:dailyret.shape[0]-1, j]) - sum(dailyret.iloc[1:dailyret.shape[0]-1, i]) * sum(dailyret.iloc[1:dailyret.shape[0]-1, j])\n",
    "            divisor1 =  (((dailyret.shape[0]-1) * sum((dailyret.iloc[1:dailyret.shape[0]-1, i])**2) - (sum(dailyret.iloc[1:dailyret.shape[0]-1, i]))**2))**(1/2)   \n",
    "            divisor2 = (((dailyret.shape[0]-1) * sum((dailyret.iloc[1:dailyret.shape[0]-1, j])**2) - (sum(dailyret.iloc[1:dailyret.shape[0]-1, j]))**2))**(1/2)   \n",
    "            cor.iloc[i,j] = dividend/(divisor1*divisor2)\n",
    "    return cor\n",
    "\n",
    "\n",
    "\n",
    "corTable = calcCorr()\n",
    "cor = corTable"
   ]
  },
  {
   "cell_type": "markdown",
   "metadata": {},
   "source": [
    "## Part 2. Correlatio Analysis\n",
    "\n",
    "#### Company Correlation\n",
    "In order to provide two companies correlation, the analysis used the following code:"
   ]
  },
  {
   "cell_type": "code",
   "execution_count": 23,
   "metadata": {
    "collapsed": false
   },
   "outputs": [
    {
     "name": "stdout",
     "output_type": "stream",
     "text": [
      "Please enter stock symbol of FIRST company: AAPL\n",
      "Please enter stock symbol of SECOND company: MSFT\n",
      "Company Name 1: Apple Inc. \n",
      "Company Name 2: Microsoft Corp. \n",
      "Correlation: 0.523573201089\n"
     ]
    }
   ],
   "source": [
    "#Provide a convenient way for a user to print out two companies' full names \n",
    "#and a correlation between their returns \n",
    "def compandcor():\n",
    "    name1 = input(\"Please enter stock symbol of FIRST company: \")  #the function asks for user's input\n",
    "    name2 = input(\"Please enter stock symbol of SECOND company: \") #the function asks for user's input\n",
    "    col = dailyret.columns.tolist()\n",
    "    #function looks for correlation information for entered companies    \n",
    "    for i in col:\n",
    "        for j in col:\n",
    "            if i == name1.upper() and j == name2.upper():\n",
    "                return print(\"Company Name 1: \" + str(companyNames[name1][0]) + \" \\n\"+ \"Company Name 2: \" + str(companyNames[name2][0]) + \" \\n\" + \"Correlation: \" + str(corTable.loc[i, j]))\n",
    "    return (\"Error. Use correct format (Example: AAPL, MSFT, fb, zts, etc. No spaces.). Please also ensure that the entered company symbol was in S&P 500 for 2015.\") # if stock symbol is entered incorrectly OR not in the list- this statement is returned.\n",
    "\n",
    "compandcor()"
   ]
  },
  {
   "cell_type": "markdown",
   "metadata": {},
   "source": [
    "#### Highest and Lowest Correlation from a company\n",
    "To calculate what are the highest and lowest correlation from a company, the analysis used this following code:"
   ]
  },
  {
   "cell_type": "code",
   "execution_count": 24,
   "metadata": {
    "collapsed": false
   },
   "outputs": [
    {
     "name": "stdout",
     "output_type": "stream",
     "text": [
      "Highest Correlation Company with Amazon.com Inc is Alphabet Inc Class A with 0.58555313236 \n",
      "Lowest Correlation Company with Amazon.com Inc is Stericycle Inc with 0.0564506179566\n"
     ]
    }
   ],
   "source": [
    "#Provide a convenient way for a user to input a stock's name and print out the full name of the two companies with wcich has \n",
    "#the highest and lowest correlation respectively.\n",
    "def bestandworstcor(name):\n",
    "    compName = companyNames[name][0]\n",
    "    largest = -1\n",
    "    lowest = 1\n",
    "    for j in col:\n",
    "        if cor.loc[name, j] > largest and j != name:\n",
    "            largest = cor.loc[name, j]\n",
    "            top = companyNames[j][0]\n",
    "        if cor.loc[name, j] < lowest:\n",
    "            lowest = cor.loc[name, j]\n",
    "            bottom = companyNames[j][0]\n",
    "    return print (\"Highest Correlation Company with \" + str(compName)+ \" is \" + str(top) + \" with \"+ str(largest) + \" \\n\" + \"Lowest Correlation Company with \" + str(compName)+ \" is \"+ str(bottom) + \" with \"+ str(lowest))\n",
    "\n",
    "bestandworstcor('AMZN')"
   ]
  },
  {
   "cell_type": "code",
   "execution_count": 25,
   "metadata": {
    "collapsed": false
   },
   "outputs": [
    {
     "name": "stdout",
     "output_type": "stream",
     "text": [
      "Highest Correlation Company with Microsoft Corp. is Marsh & McLennan with 0.604548883151 \n",
      "Lowest Correlation Company with Microsoft Corp. is Stericycle Inc with 0.0288867601988\n"
     ]
    }
   ],
   "source": [
    "bestandworstcor('MSFT')"
   ]
  },
  {
   "cell_type": "code",
   "execution_count": 26,
   "metadata": {
    "collapsed": false
   },
   "outputs": [
    {
     "name": "stdout",
     "output_type": "stream",
     "text": [
      "Highest Correlation Company with Facebook is Fiserv Inc with 0.61966671131 \n",
      "Lowest Correlation Company with Facebook is Newmont Mining Corp. (Hldg. Co.) with -0.00283227001625\n"
     ]
    }
   ],
   "source": [
    "bestandworstcor('FB')"
   ]
  },
  {
   "cell_type": "code",
   "execution_count": 27,
   "metadata": {
    "collapsed": false
   },
   "outputs": [
    {
     "name": "stdout",
     "output_type": "stream",
     "text": [
      "Highest Correlation Company with Apple Inc. is Illinois Tool Works with 0.601265434285 \n",
      "Lowest Correlation Company with Apple Inc. is Range Resources Corp. with 0.112710875584\n"
     ]
    }
   ],
   "source": [
    "bestandworstcor('AAPL')"
   ]
  },
  {
   "cell_type": "code",
   "execution_count": 28,
   "metadata": {
    "collapsed": false
   },
   "outputs": [
    {
     "name": "stdout",
     "output_type": "stream",
     "text": [
      "Highest Correlation Company with Alphabet Inc Class A is Alphabet Inc Class C with 0.989365040395 \n",
      "Lowest Correlation Company with Alphabet Inc Class A is Transocean with 0.00952277504792\n"
     ]
    }
   ],
   "source": [
    "bestandworstcor('GOOGL')"
   ]
  },
  {
   "cell_type": "markdown",
   "metadata": {},
   "source": [
    "Analysis of highly correlated companies shows the following:\n",
    "\n",
    "Amazon:          'Alphabet Inc Class A', 0.58391    \n",
    "\n",
    "Highest correlation of Amazon is to Alphabet Inc(partner company of Google). This is not surprising as both companies are leaders in technological sector with a focus on innovative solutions and products aimed at mass market. Therefore prices of these two companies are likely to be affected by the same factors affecting tech companies (i.e. drop/surge in demand, advancements in technology innovation, etc.).\n",
    "\n",
    "\n",
    "Microsoft:       'Procter & Gamble', 0.60311\n",
    "\n",
    "Microsoft shares are highly correlated to Procter & Gamble. This is somewhat a surprising result as the companies' main business in different industries. One reason for a correlation could be the fact that two companies collaborate together and P&G uses tools produced by Microsoft to make its operations more efficient.(Doctolero, 2014) However more likelier reason for the correlation is likely to be explained by the fact that both companies are giants in its own industries with a large amount of customers worldwide. Which in turn means that they are similarly exposed to macroeconomic trends (i.e. unemployment figures, economy growth, Foreign Exchange movements, etc.)\n",
    "\n",
    "\n",
    "Facebook:       'Fiserv Inc', 0.61776  \n",
    "\n",
    "Facebook's highest correlation for 2015 is with Fiserv, which is an american provider of financial services technology. Both companies are in Technological services sector and therefore it is not surprising that their share prices have moved similarly throughout the year. \n",
    "\n",
    "\n",
    "Apple:          'Illinois Tool Works', 0.60096\n",
    "\n",
    "Apple's highly correlated company in 2015 was Illinois Tool Works, which a company that specialises in industrial manufacturing. The industry and company's specialisation is different to Apple's and therefore it is difficult to explain the high correlation between the two. The conducted research has largely not found any explanation for this correlation. There is a suggestion that the stocks correlated because one of the areas Illinois Tool Works specialise in is Test & Measurement and Electronics, which is somewhat in the similar area Apple operates.(Chemi & Wells, 2015) However this is cannot be the reason for high correlation therefore this is perhaps an example where relying simply on data could be misleading.\n",
    "\n",
    "\n",
    "Alphabet Inc.*:    'Alphabet Inc Class C', 0.98933 \n",
    "*Alphabet Inc. is a parent company of Google, which was formed on October 2, 2015.\n",
    "\n",
    "Alphabet's (GOOGL) highest correlated company is unsurprisingly is the company's shares C (GOOGLE- Alphabet Inc Class C). The shares are impacted by the same factors almost perfectly and therefore are performing with a correlation, which is very close to 1."
   ]
  }
 ],
 "metadata": {
  "kernelspec": {
   "display_name": "Python [conda root]",
   "language": "python",
   "name": "conda-root-py"
  },
  "language_info": {
   "codemirror_mode": {
    "name": "ipython",
    "version": 3
   },
   "file_extension": ".py",
   "mimetype": "text/x-python",
   "name": "python",
   "nbconvert_exporter": "python",
   "pygments_lexer": "ipython3",
   "version": "3.5.2"
  }
 },
 "nbformat": 4,
 "nbformat_minor": 1
}
